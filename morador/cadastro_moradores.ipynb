{
  "nbformat": 4,
  "nbformat_minor": 0,
  "metadata": {
    "colab": {
      "name": "cadastro_moradores.ipynb",
      "provenance": [],
      "collapsed_sections": []
    },
    "kernelspec": {
      "name": "python3",
      "display_name": "Python 3"
    },
    "language_info": {
      "name": "python"
    }
  },
  "cells": [
    {
      "cell_type": "markdown",
      "source": [
        "### Estudo de python e banco de dados"
      ],
      "metadata": {
        "id": "vSeZPSBIm2wD"
      }
    },
    {
      "cell_type": "code",
      "execution_count": 2,
      "metadata": {
        "id": "SYV4G9gQlCtP"
      },
      "outputs": [],
      "source": [
        "# Remover algum banco caso exista\n",
        "import os \n",
        "os.remove('morador.db') if os.path.exists('morador.db') else None"
      ]
    },
    {
      "cell_type": "code",
      "source": [
        "# Importar o SQLite \n",
        "import sqlite3"
      ],
      "metadata": {
        "id": "t8b4bmcDmQRt"
      },
      "execution_count": 3,
      "outputs": []
    },
    {
      "cell_type": "code",
      "source": [
        "# Criar conexão com banco de dados.\n",
        "con = sqlite3.connect('morador.db')"
      ],
      "metadata": {
        "id": "SoO7kZ6LmbiX"
      },
      "execution_count": 4,
      "outputs": []
    },
    {
      "cell_type": "code",
      "source": [
        "type(con)"
      ],
      "metadata": {
        "colab": {
          "base_uri": "https://localhost:8080/"
        },
        "id": "_M3MXGD1mwON",
        "outputId": "1b011519-54e1-419b-f9ed-d1a94df5d064"
      },
      "execution_count": 5,
      "outputs": [
        {
          "output_type": "execute_result",
          "data": {
            "text/plain": [
              "sqlite3.Connection"
            ]
          },
          "metadata": {},
          "execution_count": 5
        }
      ]
    },
    {
      "cell_type": "code",
      "source": [
        "# Criar um cursor \n",
        "cur = con.cursor()"
      ],
      "metadata": {
        "id": "LIjpFfPpnR_w"
      },
      "execution_count": 6,
      "outputs": []
    },
    {
      "cell_type": "code",
      "source": [
        "type(cur)"
      ],
      "metadata": {
        "colab": {
          "base_uri": "https://localhost:8080/"
        },
        "id": "qN2E6Wptnb_s",
        "outputId": "797a031c-858e-4492-810b-b29aa98374f3"
      },
      "execution_count": 7,
      "outputs": [
        {
          "output_type": "execute_result",
          "data": {
            "text/plain": [
              "sqlite3.Cursor"
            ]
          },
          "metadata": {},
          "execution_count": 7
        }
      ]
    },
    {
      "cell_type": "code",
      "source": [
        "# Criar uma tabela - Comando SQL\n",
        "sql_create = 'create table apartamento '\\\n",
        "             '(id intenger primary key, '\\\n",
        "             'morador varchar(100), '\\\n",
        "             'andar varchar(50))'"
      ],
      "metadata": {
        "id": "BgFz95a7niDD"
      },
      "execution_count": 8,
      "outputs": []
    },
    {
      "cell_type": "code",
      "source": [
        "# Executar comando SQL no cursor()\n",
        "cur.execute(sql_create)"
      ],
      "metadata": {
        "colab": {
          "base_uri": "https://localhost:8080/"
        },
        "id": "UljHmckvoWKJ",
        "outputId": "f78c60a2-37ba-4bed-c02e-db5e4a5c16d0"
      },
      "execution_count": 9,
      "outputs": [
        {
          "output_type": "execute_result",
          "data": {
            "text/plain": [
              "<sqlite3.Cursor at 0x7f6ac6dbcdc0>"
            ]
          },
          "metadata": {},
          "execution_count": 9
        }
      ]
    },
    {
      "cell_type": "code",
      "source": [
        "# Sentença SQL para inserir registros na tabela criada\n",
        "sql_insert = 'insert into apartamento values (?, ?, ?)'"
      ],
      "metadata": {
        "id": "1qKYtT22oo_k"
      },
      "execution_count": 10,
      "outputs": []
    },
    {
      "cell_type": "code",
      "source": [
        "# Dados que serão inseridos\n",
        "registros = [(100, 'Nalberth Castro', 'Cobertura'),\n",
        "             (101, 'Bena Castro', 'Segundo'),\n",
        "             (102, 'Naza Castro', 'Primeiro'),\n",
        "             (103, 'Neylson Castro', 'Térreo')]"
      ],
      "metadata": {
        "id": "W3otYbw-pJwd"
      },
      "execution_count": 11,
      "outputs": []
    },
    {
      "cell_type": "code",
      "source": [
        "# Inserir registros\n",
        "for registro in registros:\n",
        "  cur.execute(sql_insert,registro) "
      ],
      "metadata": {
        "id": "s2C6Sct_qB3D"
      },
      "execution_count": 12,
      "outputs": []
    },
    {
      "cell_type": "code",
      "source": [
        "# Gravar a transação no banco de dados\n",
        "con.commit()"
      ],
      "metadata": {
        "id": "dbRrKmtXqoFz"
      },
      "execution_count": 13,
      "outputs": []
    },
    {
      "cell_type": "code",
      "source": [
        "# Sentença SQL para buscar (selecionar) registros\n",
        "sql_select = 'select * from apartamento'"
      ],
      "metadata": {
        "id": "g8ppLsOiq8Sd"
      },
      "execution_count": 14,
      "outputs": []
    },
    {
      "cell_type": "code",
      "source": [
        "# Executar comando select\n",
        "cur.execute(sql_select)"
      ],
      "metadata": {
        "colab": {
          "base_uri": "https://localhost:8080/"
        },
        "id": "WRc5lprwrQ6N",
        "outputId": "3b7a60cd-5a10-438a-950d-262c5858cd9d"
      },
      "execution_count": 15,
      "outputs": [
        {
          "output_type": "execute_result",
          "data": {
            "text/plain": [
              "<sqlite3.Cursor at 0x7f6ac6dbcdc0>"
            ]
          },
          "metadata": {},
          "execution_count": 15
        }
      ]
    },
    {
      "cell_type": "code",
      "source": [
        "# Reculperar os registros e armazená-los em dados\n",
        "dados = cur.fetchall()"
      ],
      "metadata": {
        "id": "HhUj5J0mrdvB"
      },
      "execution_count": 16,
      "outputs": []
    },
    {
      "cell_type": "code",
      "source": [
        "dados"
      ],
      "metadata": {
        "colab": {
          "base_uri": "https://localhost:8080/"
        },
        "id": "z7LMVWszru4t",
        "outputId": "407896af-60b8-4e05-f22f-5fbbdfbf49e7"
      },
      "execution_count": 17,
      "outputs": [
        {
          "output_type": "execute_result",
          "data": {
            "text/plain": [
              "[(100, 'Nalberth Castro', 'Cobertura'),\n",
              " (101, 'Bena Castro', 'Segundo'),\n",
              " (102, 'Naza Castro', 'Primeiro'),\n",
              " (103, 'Neylson Castro', 'Térreo')]"
            ]
          },
          "metadata": {},
          "execution_count": 17
        }
      ]
    },
    {
      "cell_type": "code",
      "source": [
        "for linha in dados:\n",
        "  print('Apartamento Id: %d. Morador: %s, Andar: %s \\n' %linha)"
      ],
      "metadata": {
        "colab": {
          "base_uri": "https://localhost:8080/"
        },
        "id": "o8EEd4wvr0IY",
        "outputId": "cf5525e8-54a2-444a-edd4-85830d0a337d"
      },
      "execution_count": 18,
      "outputs": [
        {
          "output_type": "stream",
          "name": "stdout",
          "text": [
            "Apartamento Id: 100. Morador: Nalberth Castro, Andar: Cobertura \n",
            "\n",
            "Apartamento Id: 101. Morador: Bena Castro, Andar: Segundo \n",
            "\n",
            "Apartamento Id: 102. Morador: Naza Castro, Andar: Primeiro \n",
            "\n",
            "Apartamento Id: 103. Morador: Neylson Castro, Andar: Térreo \n",
            "\n"
          ]
        }
      ]
    },
    {
      "cell_type": "code",
      "source": [
        "# DEpois de usar o banco de dados é importante fechá-lo\n",
        "con.close()"
      ],
      "metadata": {
        "id": "41wd6Gq8sc_4"
      },
      "execution_count": 19,
      "outputs": []
    }
  ]
}